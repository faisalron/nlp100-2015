{
 "cells": [
  {
   "cell_type": "code",
   "execution_count": 2,
   "metadata": {
    "collapsed": false
   },
   "outputs": [],
   "source": [
    "# encoding:utf-8\n",
    "import json\n",
    "import re\n",
    "from collections import Counter\n",
    "import requests"
   ]
  },
  {
   "cell_type": "code",
   "execution_count": 3,
   "metadata": {
    "collapsed": false
   },
   "outputs": [
    {
     "name": "stdout",
     "output_type": "stream",
     "text": [
      "イギリス\n"
     ]
    }
   ],
   "source": [
    "#20. jsonデータの読み込み\n",
    "with open(\"./jawiki-country.json\", \"r\", encoding=\"UTF-8\") as f:\n",
    "    line = f.readline()\n",
    "    while line:\n",
    "        wiki = json.loads(f.readline())\n",
    "        if wiki[\"title\"] == u\"イギリス\":\n",
    "            line = None\n",
    "print(wiki[\"title\"])"
   ]
  },
  {
   "cell_type": "code",
   "execution_count": 4,
   "metadata": {
    "collapsed": false
   },
   "outputs": [
    {
     "name": "stdout",
     "output_type": "stream",
     "text": [
      "[[Category:イギリス|*]]\n",
      "[[Category:英連邦王国|*]]\n",
      "[[Category:G8加盟国]]\n",
      "[[Category:欧州連合加盟国]]\n",
      "[[Category:海洋国家]]\n",
      "[[Category:君主国]]\n",
      "[[Category:島国|くれいとふりてん]]\n",
      "[[Category:1801年に設立された州・地域]]\n"
     ]
    }
   ],
   "source": [
    "#21. カテゴリ名を含む行を抽出\n",
    "pattern = re.compile(\"\\[\\[Category:.*\\]\\]\")\n",
    "categories = pattern.findall(wiki[\"text\"])\n",
    "for category in categories:\n",
    "    print(category)"
   ]
  },
  {
   "cell_type": "code",
   "execution_count": 5,
   "metadata": {
    "collapsed": false
   },
   "outputs": [
    {
     "name": "stdout",
     "output_type": "stream",
     "text": [
      "イギリス\n",
      "英連邦王国\n",
      "G8加盟国\n",
      "欧州連合加盟国\n",
      "海洋国家\n",
      "君主国\n",
      "島国\n",
      "1801年に設立された州・地域\n"
     ]
    }
   ],
   "source": [
    "#22. カテゴリ名の抽出\n",
    "pattern = re.compile(\":.*\\||:.*\\]\")\n",
    "for category in categories:\n",
    "    p = pattern.search(category)\n",
    "    name = category[p.span()[0]:p.span()[1]].replace(\"]\", \"\").replace(\":\", \"\").replace(\"|\", \"\")\n",
    "    print(name)"
   ]
  },
  {
   "cell_type": "code",
   "execution_count": 6,
   "metadata": {
    "collapsed": false
   },
   "outputs": [
    {
     "name": "stdout",
     "output_type": "stream",
     "text": [
      "国名:1\n",
      "歴史:1\n",
      "地理:1\n",
      "気候:2\n",
      "政治:1\n",
      "外交と軍事:1\n",
      "地方行政区分:1\n",
      "主要都市:2\n",
      "科学技術:1\n",
      "経済:1\n",
      "鉱業:2\n",
      "農業:2\n",
      "貿易:2\n",
      "通貨:2\n",
      "企業:2\n",
      "交通:1\n",
      "道路:2\n",
      "鉄道:2\n",
      "海運:2\n",
      "航空:2\n",
      "通信:1\n",
      "国民:1\n",
      "言語:2\n",
      "宗教:2\n",
      " 婚姻 :2\n",
      "教育:2\n",
      "文化:1\n",
      "食文化:2\n",
      "文学:2\n",
      " 哲学 :2\n",
      "音楽:2\n",
      "イギリスのポピュラー音楽:3\n",
      "映画:2\n",
      "コメディ:2\n",
      "国花:2\n",
      "世界遺産:2\n",
      "祝祭日:2\n",
      "スポーツ:1\n",
      "サッカー:2\n",
      "競馬:2\n",
      "モータースポーツ:2\n",
      "脚注:1\n",
      "関連項目:1\n",
      "外部リンク:1\n"
     ]
    }
   ],
   "source": [
    "#23. セクション構造\n",
    "pattern = re.compile(\"=[=]+.*[=]+=\")\n",
    "sections = pattern.findall(wiki[\"text\"])\n",
    "for(section) in sections:\n",
    "    c = Counter(section)\n",
    "    name = section.replace(\"=\", \"\")\n",
    "    level = int(c[\"=\"] / 2) - 1\n",
    "    print(name + \":\" + str(level))"
   ]
  },
  {
   "cell_type": "code",
   "execution_count": 7,
   "metadata": {
    "collapsed": false
   },
   "outputs": [
    {
     "name": "stdout",
     "output_type": "stream",
     "text": [
      "Royal Coat of Arms of the United Kingdom.svg\n",
      "Battle of Waterloo 1815.PNG\n",
      "The British Empire.png\n",
      "Uk topo en.jpg\n",
      "BenNevis2005.jpg\n",
      "Elizabeth II greets NASA GSFC employees, May 8, 2007 edit.jpg\n",
      "Palace of Westminster, London - Feb 2007.jpg\n",
      "David Cameron and Barack Obama at the G20 Summit in Toronto.jpg\n",
      "Soldiers Trooping the Colour, 16th June 2007.jpg\n",
      "Scotland Parliament Holyrood.jpg\n",
      "London.bankofengland.arp.jpg\n",
      "City of London skyline from London City Hall - Oct 2008.jpg\n",
      "Oil platform in the North SeaPros.jpg\n",
      "Eurostar at St Pancras Jan 2008.jpg\n",
      "Heathrow T5.jpg\n",
      "Anglospeak.svg\n",
      "CHANDOS3.jpg\n",
      "The Fabs.JPG\n",
      "Wembley Stadium, illuminated.jpg\n"
     ]
    }
   ],
   "source": [
    "#24. ファイル参照の抽出\n",
    "pattern = re.compile(\"\\[File:.*\\..{3,4}\\||\\[ファイル:.*\\..{3,4}\\|\")\n",
    "files = pattern.findall(wiki[\"text\"])\n",
    "for file in files:\n",
    "    fname = file.replace(\"[File:\", \"\").replace(\"[ファイル:\", \"\").replace(\"|\", \"\")\n",
    "    print(fname)"
   ]
  },
  {
   "cell_type": "code",
   "execution_count": 12,
   "metadata": {
    "collapsed": false
   },
   "outputs": [
    {
     "name": "stdout",
     "output_type": "stream",
     "text": [
      "GDP順位MER:5\n",
      "GDP/人:36,727\n",
      "首都:[[ロンドン]]\n",
      "時間帯:±0\n",
      "人口密度値:246\n",
      "確立年月日3:[[1801年]]\n",
      "元首等肩書:[[イギリスの君主|女王]]\n",
      "GDP順位:6\n",
      "人口大きさ:1 E7\n",
      "面積値:244,820\n",
      "通貨:[[スターリング・ポンド|UKポンド]] (&pound;)\n",
      "標語:{{lang|fr|Dieu et mon droit}}<br/>（[[フランス語]]:神と私の権利）\n",
      "面積順位:76\n",
      "国歌:[[女王陛下万歳|神よ女王陛下を守り給え]]\n",
      "人口値:63,181,775\n",
      "夏時間:+1\n",
      "確立形態1:[[イングランド王国]]／[[スコットランド王国]]<br />（両国とも[[連合法 (1707年)|1707年連合法]]まで）\n",
      "GDP統計年元:2012\n",
      "位置画像:Location_UK_EU_Europe_001.svg\n",
      "確立形態3:[[グレートブリテン及びアイルランド連合王国]]建国<br />（[[連合法 (1800年)|1800年連合法]]）\n",
      "GDP値元:1兆5478億\n",
      "確立年月日1:[[927年]]／[[843年]]\n",
      "最大都市:ロンドン\n",
      "確立形態4:現在の国号「'''グレートブリテン及び北アイルランド連合王国'''」に変更\n",
      "公用語:[[英語]]（事実上）\n",
      "GDP値MER:2兆4337億\n",
      "GDP統計年:2012\n",
      "国章リンク:（[[イギリスの国章|国章]]）\n",
      "通貨コード:GBP\n",
      "建国形態:建国\n",
      "公式国名:{{lang|en|United Kingdom of Great Britain and Northern Ireland}}\n",
      "水面積率:1.3%\n",
      "GDP統計年MER:2012\n",
      "面積大きさ:1 E11\n",
      "日本語国名:グレートブリテン及び北アイルランド連合王国\n",
      "略名:イギリス\n",
      "国旗画像:Flag of the United Kingdom.svg\n",
      "確立形態2:[[グレートブリテン王国]]建国<br />（[[連合法 (1707年)|1707年連合法]]）\n",
      "首相等氏名:[[デーヴィッド・キャメロン]]\n",
      "人口順位:22\n",
      "首相等肩書:[[イギリスの首相|首相]]\n",
      "人口統計年:2011\n",
      "確立年月日4:[[1927年]]\n",
      "国際電話番号:44\n",
      "確立年月日2:[[1707年]]\n",
      "国章画像:[[ファイル:Royal Coat of Arms of the United Kingdom.svg|85px|イギリスの国章]]\n",
      "ccTLD:[[.uk]] / [[.gb]]\n",
      "GDP値:2兆3162億\n",
      "ISO 3166-1:GB / GBR\n",
      "元首等氏名:[[エリザベス2世]]\n",
      "注記:\n"
     ]
    }
   ],
   "source": [
    "#25 テンプレートの抽出\n",
    "lines = wiki[\"text\"].split(\"\\n\")\n",
    "index = 0\n",
    "infos = {}\n",
    "rm_pattern = r\"<ref.*/>|<ref.*</ref>\"\n",
    "line = lines[index]\n",
    "while line:\n",
    "    line = lines[index]\n",
    "    if line.startswith(\"}}\"):\n",
    "        line = None\n",
    "    elif line.startswith(\"|\"):\n",
    "        key, value = line[1:len(line)].split(\" = \")\n",
    "        infos[key] = re.sub(rm_pattern, \"\", value)\n",
    "    index += 1\n",
    "    \n",
    "for key in infos:\n",
    "    print(key + \":\" + infos[key])"
   ]
  },
  {
   "cell_type": "code",
   "execution_count": 15,
   "metadata": {
    "collapsed": false
   },
   "outputs": [
    {
     "name": "stdout",
     "output_type": "stream",
     "text": [
      "GDP順位MER:5\n",
      "GDP/人:36,727\n",
      "首都:ロンドン\n",
      "時間帯:±0\n",
      "人口密度値:246\n",
      "確立年月日3:1801年\n",
      "元首等肩書:イギリスの君主\n",
      "GDP順位:6\n",
      "人口大きさ:1 E7\n",
      "面積値:244,820\n",
      "通貨:スターリング・ポンド (&pound;)\n",
      "標語:Dieu et mon droit<br/>（フランス語:神と私の権利）\n",
      "面積順位:76\n",
      "国歌:女王陛下万歳\n",
      "人口値:63,181,775\n",
      "夏時間:+1\n",
      "確立形態1:イングランド王国／スコットランド王国<br />（両国とも連合法 (1707年)まで）\n",
      "GDP統計年元:2012\n",
      "位置画像:Location_UK_EU_Europe_001.svg\n",
      "確立形態3:グレートブリテン及びアイルランド連合王国建国<br />（連合法 (1800年)）\n",
      "GDP値元:1兆5478億\n",
      "確立年月日1:927年／843年\n",
      "最大都市:ロンドン\n",
      "確立形態4:現在の国号「グレートブリテン及び北アイルランド連合王国」に変更\n",
      "公用語:英語（事実上）\n",
      "GDP値MER:2兆4337億\n",
      "GDP統計年:2012\n",
      "国章リンク:（イギリスの国章）\n",
      "通貨コード:GBP\n",
      "建国形態:建国\n",
      "公式国名:United Kingdom of Great Britain and Northern Ireland\n",
      "水面積率:1.3%\n",
      "GDP統計年MER:2012\n",
      "面積大きさ:1 E11\n",
      "日本語国名:グレートブリテン及び北アイルランド連合王国\n",
      "略名:イギリス\n",
      "国旗画像:Flag of the United Kingdom.svg\n",
      "確立形態2:グレートブリテン王国建国<br />（連合法 (1707年)）\n",
      "首相等氏名:デーヴィッド・キャメロン\n",
      "人口順位:22\n",
      "首相等肩書:イギリスの首相\n",
      "人口統計年:2011\n",
      "確立年月日4:1927年\n",
      "国際電話番号:44\n",
      "確立年月日2:1707年\n",
      "国章画像:Royal Coat of Arms of the United Kingdom.svg\n",
      "ccTLD:.uk / .gb\n",
      "GDP値:2兆3162億\n",
      "ISO 3166-1:GB / GBR\n",
      "元首等氏名:エリザベス2世\n",
      "注記:\n"
     ]
    }
   ],
   "source": [
    "# 26.強調マークアップの除去\n",
    "# 27.内部リンクの除去\n",
    "# 28.MediaWikiマークアップの除去\n",
    "def replace_markup(text):\n",
    "    # 強調の除去\n",
    "    em_pattern = r\"'''''|'''|''\"\n",
    "    text = re.sub(em_pattern, \"\", text)\n",
    "    markup_pattern = re.compile(\"\\[\\[.*?\\]\\]|\\{\\{.*?\\}\\}\")\n",
    "    match_list = markup_pattern.findall(text)\n",
    "    cleaned_list = []\n",
    "    for match in match_list:\n",
    "        sep = match.split(\"|\")\n",
    "        # [[ロンドン]]\n",
    "        if len(sep) == 1:\n",
    "            cleaned_text = sep[0][2:len(sep[0])-2]\n",
    "        # [[連合法 (1707年)|1707年連合法]]\n",
    "        elif len(sep) == 2:\n",
    "            cleaned_text = sep[0][2:]\n",
    "        elif len(sep) == 3:\n",
    "            # {{lang|en|United Kingdom of Great Britain and Northern Ireland}}\n",
    "            if sep[0].startswith(\"{\"):\n",
    "                cleaned_text = sep[2][:len(sep[2])-2]\n",
    "            # [[ファイル:Royal Coat of Arms of the United Kingdom.svg|85px|イギリスの国章]]\n",
    "            elif sep[0].startswith(\"[\"):\n",
    "                cleaned_text = sep[0][7:]\n",
    "        cleaned_list.append(cleaned_text)\n",
    "    for index in range(len(match_list)):\n",
    "        text = text.replace(match_list[index], cleaned_list[index])\n",
    "    return text\n",
    "\n",
    "for key in infos:\n",
    "    print(key + \":\" + replace_markup(infos[key]))"
   ]
  },
  {
   "cell_type": "code",
   "execution_count": 16,
   "metadata": {
    "collapsed": false
   },
   "outputs": [
    {
     "name": "stdout",
     "output_type": "stream",
     "text": [
      "https://upload.wikimedia.org/wikipedia/commons/a/ae/Flag_of_the_United_Kingdom.svg\n"
     ]
    }
   ],
   "source": [
    "# 29.国旗画像のURLを取得する\n",
    "payload = {\"action\": \"query\", \"prop\": \"imageinfo\", \"iiprop\": \"url\", \"format\": \"json\", \"titles\": \"File:\" + infos[u\"国旗画像\"]}\n",
    "response = requests.get(\"https://commons.wikimedia.org/w/api.php\", params=payload)\n",
    "result = json.loads(response.text)\n",
    "print(result[\"query\"][\"pages\"][\"347935\"][\"imageinfo\"][0][\"url\"])"
   ]
  }
 ],
 "metadata": {
  "kernelspec": {
   "display_name": "Python 3",
   "language": "python",
   "name": "python3"
  },
  "language_info": {
   "codemirror_mode": {
    "name": "ipython",
    "version": 3
   },
   "file_extension": ".py",
   "mimetype": "text/x-python",
   "name": "python",
   "nbconvert_exporter": "python",
   "pygments_lexer": "ipython3",
   "version": "3.4.4"
  }
 },
 "nbformat": 4,
 "nbformat_minor": 0
}
