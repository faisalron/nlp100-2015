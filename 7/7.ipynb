{
 "cells": [
  {
   "cell_type": "code",
   "execution_count": 15,
   "metadata": {
    "collapsed": false
   },
   "outputs": [
    {
     "name": "stdout",
     "output_type": "stream",
     "text": [
      "921337\n"
     ]
    }
   ],
   "source": [
    "# 第7章: データベース\n",
    "import json\n",
    "\n",
    "# JSONファイルからデータを読み込み\n",
    "with open('artist.json', encoding='UTF-8') as data_file:\n",
    "    artist_data = [json.loads(line) for line in data_file]\n",
    "    \n",
    "print(len(artist_data))"
   ]
  },
  {
   "cell_type": "code",
   "execution_count": 27,
   "metadata": {
    "collapsed": false
   },
   "outputs": [
    {
     "name": "stdout",
     "output_type": "stream",
     "text": [
      "309317\n"
     ]
    }
   ],
   "source": [
    "# 60. KVSの構築\n",
    "\n",
    "import redis\n",
    "\n",
    "r = redis.StrictRedis(host='localhost', port=16379, db=0)\n",
    "for artist in artist_data:\n",
    "    if 'area' in artist:\n",
    "        r.set(artist['name'], artist['area'])\n",
    "\n",
    "print(len(r.keys()))"
   ]
  },
  {
   "cell_type": "code",
   "execution_count": 40,
   "metadata": {
    "collapsed": false
   },
   "outputs": [
    {
     "name": "stdout",
     "output_type": "stream",
     "text": [
      "United Kingdom\n"
     ]
    }
   ],
   "source": [
    "# 61. KVSの検索\n",
    "\n",
    "print(r.get('Oasis').decode('utf-8'))"
   ]
  },
  {
   "cell_type": "code",
   "execution_count": 60,
   "metadata": {
    "collapsed": false
   },
   "outputs": [
    {
     "name": "stdout",
     "output_type": "stream",
     "text": [
      "Mitomi Tokoto\n",
      "川嶋未来\n",
      "青空千夜\n",
      "Kicco\n",
      "さわやか五郎\n",
      "杏子\n",
      "中西宏司\n",
      "SIMONSAYZ\n",
      "天江衣\n",
      "アイドルプロジェクト\n",
      "Count : 22128\n"
     ]
    }
   ],
   "source": [
    "# 62. KVS内の反復処理\n",
    "from itertools import islice\n",
    "\n",
    "artists_in_japan = [key for key in r.keys() if r.get(key) == b'Japan']\n",
    "\n",
    "for artist in islice(artists_in_japan, 0, 10):\n",
    "    print(artist.decode('utf-8'))\n",
    "\n",
    "print('Count : {}'.format(len(artists_in_japan)))"
   ]
  },
  {
   "cell_type": "code",
   "execution_count": 42,
   "metadata": {
    "collapsed": false
   },
   "outputs": [
    {
     "name": "stdout",
     "output_type": "stream",
     "text": [
      "[{'count': 1, 'value': 'australian'}, {'count': 1, 'value': 'rock'}]\n"
     ]
    }
   ],
   "source": [
    "# 63. オブジェクトを値に格納したKVS\n",
    "\n",
    "r1 = redis.StrictRedis(host='localhost', port=16379, db=1)\n",
    "for artist in artist_data:\n",
    "    if 'tags' in artist:\n",
    "        r1.set(artist['name'], artist['tags'])\n",
    "\n",
    "print(r1.get('GANGgajang').decode('utf-8'))"
   ]
  },
  {
   "cell_type": "code",
   "execution_count": 51,
   "metadata": {
    "collapsed": false
   },
   "outputs": [
    {
     "name": "stdout",
     "output_type": "stream",
     "text": [
      "921337\n",
      "name_1\n",
      "aliases.name_1\n",
      "tags.value_1\n",
      "rating.value_1\n"
     ]
    }
   ],
   "source": [
    "# 64. MongoDBの構築\n",
    "from pymongo import MongoClient\n",
    "import pymongo\n",
    "\n",
    "# DBへ接続\n",
    "client = MongoClient('localhost', 27017)\n",
    "db = client.test_db\n",
    "artists = db.artists # artitsのコレクションを作成・参照\n",
    "\n",
    "# DBにデータを格納\n",
    "result = artists.insert_many(artist_data)\n",
    "\n",
    "print(len(result.inserted_ids))\n",
    "\n",
    "index_name = artists.create_index([('name', pymongo.ASCENDING)])\n",
    "print(index_name)\n",
    "\n",
    "index_alias = artists.create_index([('aliases.name', pymongo.ASCENDING)])\n",
    "print(index_alias)\n",
    "\n",
    "index_tag = artists.create_index([('tags.value', pymongo.ASCENDING)])\n",
    "print(index_tag)\n",
    "\n",
    "index_rating = artists.create_index([('rating.value', pymongo.ASCENDING)])\n",
    "print(index_rating)"
   ]
  },
  {
   "cell_type": "code",
   "execution_count": 58,
   "metadata": {
    "collapsed": false
   },
   "outputs": [
    {
     "name": "stdout",
     "output_type": "stream",
     "text": [
      "{'gender': 'Female', '_id': ObjectId('57ad7cad3d48711c401e10d9'), 'aliases': [{'sort_name': 'Queen', 'name': 'Queen'}], 'ended': True, 'sort_name': 'Queen', 'area': 'Japan', 'type': 'Character', 'name': 'Queen', 'gid': '420ca290-76c5-41af-999e-564d7c71f1a7', 'id': 701492, 'tags': [{'count': 1, 'value': 'kamen rider w'}, {'count': 1, 'value': 'related-akb48'}]}\n"
     ]
    }
   ],
   "source": [
    "# 65. MongoDBの検索\n",
    "\n",
    "artist_queen = artists.find_one({'name' : 'Queen'})\n",
    "\n",
    "print(artist_queen)"
   ]
  },
  {
   "cell_type": "code",
   "execution_count": 61,
   "metadata": {
    "collapsed": false
   },
   "outputs": [
    {
     "name": "stdout",
     "output_type": "stream",
     "text": [
      "22821\n"
     ]
    }
   ],
   "source": [
    "# 66. 検索件数の取得\n",
    "\n",
    "artists_in_japan_2 = artists.find({'area': 'Japan'})\n",
    "\n",
    "print(artists_in_japan_2.count())"
   ]
  },
  {
   "cell_type": "code",
   "execution_count": 67,
   "metadata": {
    "collapsed": false
   },
   "outputs": [
    {
     "name": "stdout",
     "output_type": "stream",
     "text": [
      "{'gid': '39ab1aed-75e0-4140-bd47-540276886b60', 'id': 20660, 'begin': {'year': 1991}, 'sort_name': 'Oasis', 'name': 'Oasis', 'type': 'Group', 'area': 'United Kingdom', 'ended': True, '_id': ObjectId('57ad7cae3d48711c401efc98'), 'aliases': [{'sort_name': 'OASIS', 'name': 'OASIS'}, {'sort_name': 'オアシス', 'name': 'オアシス'}], 'rating': {'count': 13, 'value': 86}, 'end': {'date': 28, 'month': 8, 'year': 2009}, 'tags': [{'count': 1, 'value': 'rock'}, {'count': 3, 'value': 'britpop'}, {'count': 4, 'value': 'british'}, {'count': 1, 'value': 'uk'}, {'count': 1, 'value': 'britannique'}, {'count': 1, 'value': 'rock and indie'}, {'count': 1, 'value': 'england'}, {'count': 1, 'value': 'manchester'}]}\n"
     ]
    }
   ],
   "source": [
    "# 67. 複数のドキュメントの取得\n",
    "\n",
    "artists_oasis = artists.find({'aliases.name' : 'オアシス'})\n",
    "\n",
    "for artist in artists_oasis:\n",
    "    print(artist)"
   ]
  },
  {
   "cell_type": "code",
   "execution_count": 84,
   "metadata": {
    "collapsed": false
   },
   "outputs": [
    {
     "name": "stdout",
     "output_type": "stream",
     "text": [
      "name = Susie Ledge, rating = 100\n",
      "name = Miami Horror, rating = 100\n",
      "name = Annelise Collette, rating = 100\n",
      "name = Neneh Cherry, rating = 100\n",
      "name = slowEarth, rating = 100\n",
      "name = David Guetta, rating = 100\n",
      "name = Maxi Jazz, rating = 100\n",
      "name = Sonny Fodera, rating = 100\n",
      "name = RJ. Ruben Junnior, rating = 100\n",
      "name = Mountane, rating = 100\n"
     ]
    }
   ],
   "source": [
    "# 68. 複数のドキュメントの取得\n",
    "\n",
    "artists_dance = artists.aggregate([\n",
    "        { '$match' : {'tags.value' : 'dance', 'rating.value' : {'$exists' : 'true' }}},\n",
    "        { '$sort' : {'rating.value' : -1 }}, #descending\n",
    "        { '$limit': 10 }\n",
    "    ])\n",
    "\n",
    "for artist in artists_dance:\n",
    "    print('name = {}, rating = {}'.format(artist['name'], artist['rating']['value']))"
   ]
  },
  {
   "cell_type": "code",
   "execution_count": null,
   "metadata": {
    "collapsed": true
   },
   "outputs": [],
   "source": [
    "# 69. Webアプリケーションの作成\n",
    "\n"
   ]
  }
 ],
 "metadata": {
  "kernelspec": {
   "display_name": "Python 3",
   "language": "python",
   "name": "python3"
  },
  "language_info": {
   "codemirror_mode": {
    "name": "ipython",
    "version": 3
   },
   "file_extension": ".py",
   "mimetype": "text/x-python",
   "name": "python",
   "nbconvert_exporter": "python",
   "pygments_lexer": "ipython3",
   "version": "3.4.4"
  }
 },
 "nbformat": 4,
 "nbformat_minor": 0
}
